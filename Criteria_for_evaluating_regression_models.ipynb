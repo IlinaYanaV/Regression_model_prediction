{
  "nbformat": 4,
  "nbformat_minor": 0,
  "metadata": {
    "colab": {
      "provenance": []
    },
    "kernelspec": {
      "name": "python3",
      "display_name": "Python 3"
    },
    "language_info": {
      "name": "python"
    }
  },
  "cells": [
    {
      "cell_type": "markdown",
      "source": [
        "Истинное значение(y_true) : 110, 135, 90, 89, 101, 145, 177, 90, 88, 105\n"
      ],
      "metadata": {
        "id": "d5_8duLPIutN"
      }
    },
    {
      "cell_type": "markdown",
      "source": [
        "Предсказание модели(y_pred) : 105, 110, 87, 94, 98, 122, 150, 89, 84, 102"
      ],
      "metadata": {
        "id": "vaWae_fwK8Yo"
      }
    },
    {
      "cell_type": "code",
      "source": [
        "y_true = [110, 135, 90, 89, 101, 145, 177, 90, 88, 105]"
      ],
      "metadata": {
        "id": "YB95pNCBJ5TE"
      },
      "execution_count": null,
      "outputs": []
    },
    {
      "cell_type": "code",
      "source": [
        "y_pred = [105, 110, 87, 94, 98, 122, 150, 89, 84, 102]"
      ],
      "metadata": {
        "id": "W_QuB-EtJ9D2"
      },
      "execution_count": null,
      "outputs": []
    },
    {
      "cell_type": "markdown",
      "source": [
        "1. Рассчитайте показатель «среднеквадратическая ошибка» (Mean Squared Error – MSE) "
      ],
      "metadata": {
        "id": "xngKaKoolfyB"
      }
    },
    {
      "cell_type": "code",
      "source": [
        "from sklearn.metrics import mean_squared_error\n",
        "MSE = mean_squared_error(y_true, y_pred)\n",
        "MSE"
      ],
      "metadata": {
        "colab": {
          "base_uri": "https://localhost:8080/"
        },
        "id": "VFWtnm9PIG3B",
        "outputId": "89924fb6-adac-4364-e8c5-4ec23f272f80"
      },
      "execution_count": null,
      "outputs": [
        {
          "output_type": "execute_result",
          "data": {
            "text/plain": [
              "197.7"
            ]
          },
          "metadata": {},
          "execution_count": 4
        }
      ]
    },
    {
      "cell_type": "markdown",
      "source": [
        "2. Рассчитайте показатель «корень среднеквадратической ошибки» (Root Mean Squared Error – RMSE) "
      ],
      "metadata": {
        "id": "TVl20765lhE3"
      }
    },
    {
      "cell_type": "code",
      "source": [
        "from sklearn.metrics import mean_squared_error\n",
        "RMSE = mean_squared_error(y_true, y_pred, squared = False)\n",
        "RMSE"
      ],
      "metadata": {
        "colab": {
          "base_uri": "https://localhost:8080/"
        },
        "id": "d_zAOToaIOFN",
        "outputId": "e4a1702b-7aaa-4b64-b2f9-c6590ecc95aa"
      },
      "execution_count": null,
      "outputs": [
        {
          "output_type": "execute_result",
          "data": {
            "text/plain": [
              "14.060583202698243"
            ]
          },
          "metadata": {},
          "execution_count": 5
        }
      ]
    },
    {
      "cell_type": "markdown",
      "source": [
        "3. Рассчитайте показатель «средний модуль ошибки» (Mean Absolute Error – MAE)) "
      ],
      "metadata": {
        "id": "81exyRXRlhNV"
      }
    },
    {
      "cell_type": "code",
      "source": [
        "from sklearn.metrics import mean_absolute_error\n",
        "MAE = mean_absolute_error(y_true, y_pred)\n",
        "MAE"
      ],
      "metadata": {
        "colab": {
          "base_uri": "https://localhost:8080/"
        },
        "id": "sdP6LS8QIRad",
        "outputId": "3d683327-68ae-4d99-b6df-5174c2c1ca28"
      },
      "execution_count": null,
      "outputs": [
        {
          "output_type": "execute_result",
          "data": {
            "text/plain": [
              "9.9"
            ]
          },
          "metadata": {},
          "execution_count": 6
        }
      ]
    },
    {
      "cell_type": "markdown",
      "source": [
        "4. Рассчитайте коэффициент детерминации (R2) "
      ],
      "metadata": {
        "id": "q039S7ePlhYG"
      }
    },
    {
      "cell_type": "code",
      "source": [
        "from sklearn.metrics import r2_score\n",
        "R2 = r2_score(y_true, y_pred)\n",
        "R2"
      ],
      "metadata": {
        "colab": {
          "base_uri": "https://localhost:8080/"
        },
        "id": "5cTaWmtDIWT2",
        "outputId": "982f4064-dbd2-4b7a-f238-4227c36072a4"
      },
      "execution_count": null,
      "outputs": [
        {
          "output_type": "execute_result",
          "data": {
            "text/plain": [
              "0.7553217821782179"
            ]
          },
          "metadata": {},
          "execution_count": 7
        }
      ]
    },
    {
      "cell_type": "markdown",
      "source": [
        "5. Сформулируйте и аргументируйте вывод о точности построенной банком регрессионной модели."
      ],
      "metadata": {
        "id": "tR8ivcKElpBW"
      }
    },
    {
      "cell_type": "code",
      "source": [
        "print(\"MAE: {0:7.2f}, RMSE: {1:7.2f}, r2_score{3:7.2f} для Модели линейной регрессии\".format(MSE, RMSE, MAE, R2))"
      ],
      "metadata": {
        "colab": {
          "base_uri": "https://localhost:8080/"
        },
        "id": "rc2XgSy3MPQH",
        "outputId": "f9f78925-20bb-4967-fc19-a2e33190ebdd"
      },
      "execution_count": null,
      "outputs": [
        {
          "output_type": "stream",
          "name": "stdout",
          "text": [
            "MAE:  197.70, RMSE:   14.06, r2_score   0.76 для Модели линейной регрессии\n"
          ]
        }
      ]
    },
    {
      "cell_type": "markdown",
      "source": [
        "Вывод: модель среднего качества, она оценивает на 76% вариативность нашей выборки и у нее достаточно большие ошибки."
      ],
      "metadata": {
        "id": "K9zCUgDcIZtJ"
      }
    }
  ]
}